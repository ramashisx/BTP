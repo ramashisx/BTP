{
 "cells": [
  {
   "cell_type": "code",
   "execution_count": 146,
   "metadata": {},
   "outputs": [],
   "source": [
    "import pandas as pd\n",
    "import seaborn as sns\n",
    "import matplotlib.pyplot as plt\n",
    "import yfinance as yf"
   ]
  },
  {
   "cell_type": "code",
   "execution_count": 147,
   "metadata": {},
   "outputs": [],
   "source": [
    "data = pd.read_csv(\"final_data.csv\")\n",
    "data[\"Date\"] = pd.to_datetime(data[\"Date\"]).dt.date"
   ]
  },
  {
   "cell_type": "code",
   "execution_count": null,
   "metadata": {},
   "outputs": [],
   "source": []
  },
  {
   "cell_type": "code",
   "execution_count": 148,
   "metadata": {},
   "outputs": [
    {
     "name": "stdout",
     "output_type": "stream",
     "text": [
      "[*********************100%%**********************]  1 of 1 completed\n"
     ]
    }
   ],
   "source": [
    "# get historical market data\n",
    "hist = yf.download(\"HDFCBANK.NS\", str(data[\"Date\"].iloc[-1]), str(data[\"Date\"].iloc[0]))[[\"Adj Close\"]].reset_index()"
   ]
  },
  {
   "cell_type": "code",
   "execution_count": 149,
   "metadata": {},
   "outputs": [],
   "source": [
    "hist[\"Date\"] = pd.to_datetime(hist[\"Date\"]).dt.date"
   ]
  },
  {
   "cell_type": "code",
   "execution_count": 150,
   "metadata": {},
   "outputs": [],
   "source": [
    "merged_data = data.merge(hist, how=\"right\")"
   ]
  },
  {
   "cell_type": "code",
   "execution_count": 151,
   "metadata": {},
   "outputs": [
    {
     "data": {
      "text/html": [
       "<div>\n",
       "<style scoped>\n",
       "    .dataframe tbody tr th:only-of-type {\n",
       "        vertical-align: middle;\n",
       "    }\n",
       "\n",
       "    .dataframe tbody tr th {\n",
       "        vertical-align: top;\n",
       "    }\n",
       "\n",
       "    .dataframe thead th {\n",
       "        text-align: right;\n",
       "    }\n",
       "</style>\n",
       "<table border=\"1\" class=\"dataframe\">\n",
       "  <thead>\n",
       "    <tr style=\"text-align: right;\">\n",
       "      <th></th>\n",
       "      <th>Date</th>\n",
       "      <th>link</th>\n",
       "      <th>text</th>\n",
       "      <th>len</th>\n",
       "      <th>sentiment</th>\n",
       "      <th>Adj Close</th>\n",
       "    </tr>\n",
       "  </thead>\n",
       "  <tbody>\n",
       "    <tr>\n",
       "      <th>0</th>\n",
       "      <td>2016-11-23</td>\n",
       "      <td>https://www.moneycontrol.com/news/business/mar...</td>\n",
       "      <td>Moneycontrol Bureau12:58 pm Market Update: The...</td>\n",
       "      <td>428.0</td>\n",
       "      <td>0.286257</td>\n",
       "      <td>564.223206</td>\n",
       "    </tr>\n",
       "    <tr>\n",
       "      <th>1</th>\n",
       "      <td>2016-11-24</td>\n",
       "      <td>https://www.moneycontrol.com/news/business/mar...</td>\n",
       "      <td>Moneycontrol Bureau\\n\\nSpectacular rally on Fr...</td>\n",
       "      <td>507.0</td>\n",
       "      <td>0.677019</td>\n",
       "      <td>555.055664</td>\n",
       "    </tr>\n",
       "    <tr>\n",
       "      <th>2</th>\n",
       "      <td>2016-11-25</td>\n",
       "      <td>https://www.moneycontrol.com/news/business/mar...</td>\n",
       "      <td>Moneycontrol Bureau\\n\\nSpectacular rally on Fr...</td>\n",
       "      <td>507.0</td>\n",
       "      <td>0.677019</td>\n",
       "      <td>566.390076</td>\n",
       "    </tr>\n",
       "    <tr>\n",
       "      <th>3</th>\n",
       "      <td>2016-11-25</td>\n",
       "      <td>https://www.moneycontrol.com/news/business/mar...</td>\n",
       "      <td>Moneycontrol Bureau9:55 am Market check: The S...</td>\n",
       "      <td>647.0</td>\n",
       "      <td>-0.571823</td>\n",
       "      <td>566.390076</td>\n",
       "    </tr>\n",
       "    <tr>\n",
       "      <th>4</th>\n",
       "      <td>2016-11-28</td>\n",
       "      <td>https://www.moneycontrol.com/news/business/mar...</td>\n",
       "      <td>Moneycontrol Bureau10:59 am Market Update: The...</td>\n",
       "      <td>575.0</td>\n",
       "      <td>-0.749472</td>\n",
       "      <td>564.080322</td>\n",
       "    </tr>\n",
       "    <tr>\n",
       "      <th>...</th>\n",
       "      <td>...</td>\n",
       "      <td>...</td>\n",
       "      <td>...</td>\n",
       "      <td>...</td>\n",
       "      <td>...</td>\n",
       "      <td>...</td>\n",
       "    </tr>\n",
       "    <tr>\n",
       "      <th>1917</th>\n",
       "      <td>2023-09-26</td>\n",
       "      <td>https://www.moneycontrol.com/news/business/hdf...</td>\n",
       "      <td>HDFC Bank Shares Have Trailed Private Lenders ...</td>\n",
       "      <td>364.0</td>\n",
       "      <td>-0.999903</td>\n",
       "      <td>1537.650024</td>\n",
       "    </tr>\n",
       "    <tr>\n",
       "      <th>1918</th>\n",
       "      <td>2023-09-27</td>\n",
       "      <td>https://www.moneycontrol.com/news/business/hdf...</td>\n",
       "      <td>HDFC Bank Shares Have Trailed Private Lenders ...</td>\n",
       "      <td>364.0</td>\n",
       "      <td>-0.999903</td>\n",
       "      <td>1526.849976</td>\n",
       "    </tr>\n",
       "    <tr>\n",
       "      <th>1919</th>\n",
       "      <td>2023-09-28</td>\n",
       "      <td>https://www.moneycontrol.com/news/business/hdf...</td>\n",
       "      <td>HDFC Bank Shares Have Trailed Private Lenders ...</td>\n",
       "      <td>364.0</td>\n",
       "      <td>-0.999903</td>\n",
       "      <td>1523.699951</td>\n",
       "    </tr>\n",
       "    <tr>\n",
       "      <th>1920</th>\n",
       "      <td>2023-09-29</td>\n",
       "      <td>https://www.moneycontrol.com/news/business/hdf...</td>\n",
       "      <td>HDFC Bank Shares Have Trailed Private Lenders ...</td>\n",
       "      <td>364.0</td>\n",
       "      <td>-0.999903</td>\n",
       "      <td>1526.300049</td>\n",
       "    </tr>\n",
       "    <tr>\n",
       "      <th>1921</th>\n",
       "      <td>2023-10-03</td>\n",
       "      <td>https://www.moneycontrol.com/news/business/hdf...</td>\n",
       "      <td>HDFC Bank Shares Have Trailed Private Lenders ...</td>\n",
       "      <td>364.0</td>\n",
       "      <td>-0.999903</td>\n",
       "      <td>1508.050049</td>\n",
       "    </tr>\n",
       "  </tbody>\n",
       "</table>\n",
       "<p>1922 rows × 6 columns</p>\n",
       "</div>"
      ],
      "text/plain": [
       "            Date                                               link  \\\n",
       "0     2016-11-23  https://www.moneycontrol.com/news/business/mar...   \n",
       "1     2016-11-24  https://www.moneycontrol.com/news/business/mar...   \n",
       "2     2016-11-25  https://www.moneycontrol.com/news/business/mar...   \n",
       "3     2016-11-25  https://www.moneycontrol.com/news/business/mar...   \n",
       "4     2016-11-28  https://www.moneycontrol.com/news/business/mar...   \n",
       "...          ...                                                ...   \n",
       "1917  2023-09-26  https://www.moneycontrol.com/news/business/hdf...   \n",
       "1918  2023-09-27  https://www.moneycontrol.com/news/business/hdf...   \n",
       "1919  2023-09-28  https://www.moneycontrol.com/news/business/hdf...   \n",
       "1920  2023-09-29  https://www.moneycontrol.com/news/business/hdf...   \n",
       "1921  2023-10-03  https://www.moneycontrol.com/news/business/hdf...   \n",
       "\n",
       "                                                   text    len  sentiment  \\\n",
       "0     Moneycontrol Bureau12:58 pm Market Update: The...  428.0   0.286257   \n",
       "1     Moneycontrol Bureau\\n\\nSpectacular rally on Fr...  507.0   0.677019   \n",
       "2     Moneycontrol Bureau\\n\\nSpectacular rally on Fr...  507.0   0.677019   \n",
       "3     Moneycontrol Bureau9:55 am Market check: The S...  647.0  -0.571823   \n",
       "4     Moneycontrol Bureau10:59 am Market Update: The...  575.0  -0.749472   \n",
       "...                                                 ...    ...        ...   \n",
       "1917  HDFC Bank Shares Have Trailed Private Lenders ...  364.0  -0.999903   \n",
       "1918  HDFC Bank Shares Have Trailed Private Lenders ...  364.0  -0.999903   \n",
       "1919  HDFC Bank Shares Have Trailed Private Lenders ...  364.0  -0.999903   \n",
       "1920  HDFC Bank Shares Have Trailed Private Lenders ...  364.0  -0.999903   \n",
       "1921  HDFC Bank Shares Have Trailed Private Lenders ...  364.0  -0.999903   \n",
       "\n",
       "        Adj Close  \n",
       "0      564.223206  \n",
       "1      555.055664  \n",
       "2      566.390076  \n",
       "3      566.390076  \n",
       "4      564.080322  \n",
       "...           ...  \n",
       "1917  1537.650024  \n",
       "1918  1526.849976  \n",
       "1919  1523.699951  \n",
       "1920  1526.300049  \n",
       "1921  1508.050049  \n",
       "\n",
       "[1922 rows x 6 columns]"
      ]
     },
     "execution_count": 151,
     "metadata": {},
     "output_type": "execute_result"
    }
   ],
   "source": [
    "merged_data = merged_data.bfill()\n",
    "merged_data"
   ]
  },
  {
   "cell_type": "code",
   "execution_count": 152,
   "metadata": {},
   "outputs": [
    {
     "data": {
      "text/html": [
       "<div>\n",
       "<style scoped>\n",
       "    .dataframe tbody tr th:only-of-type {\n",
       "        vertical-align: middle;\n",
       "    }\n",
       "\n",
       "    .dataframe tbody tr th {\n",
       "        vertical-align: top;\n",
       "    }\n",
       "\n",
       "    .dataframe thead th {\n",
       "        text-align: right;\n",
       "    }\n",
       "</style>\n",
       "<table border=\"1\" class=\"dataframe\">\n",
       "  <thead>\n",
       "    <tr style=\"text-align: right;\">\n",
       "      <th></th>\n",
       "      <th>Adj Close</th>\n",
       "      <th>sentiment</th>\n",
       "    </tr>\n",
       "  </thead>\n",
       "  <tbody>\n",
       "    <tr>\n",
       "      <th>Adj Close</th>\n",
       "      <td>1.00000</td>\n",
       "      <td>0.08704</td>\n",
       "    </tr>\n",
       "    <tr>\n",
       "      <th>sentiment</th>\n",
       "      <td>0.08704</td>\n",
       "      <td>1.00000</td>\n",
       "    </tr>\n",
       "  </tbody>\n",
       "</table>\n",
       "</div>"
      ],
      "text/plain": [
       "           Adj Close  sentiment\n",
       "Adj Close    1.00000    0.08704\n",
       "sentiment    0.08704    1.00000"
      ]
     },
     "execution_count": 152,
     "metadata": {},
     "output_type": "execute_result"
    }
   ],
   "source": [
    "merged_data[[\"Adj Close\", \"sentiment\"]].corr()"
   ]
  },
  {
   "cell_type": "code",
   "execution_count": 153,
   "metadata": {},
   "outputs": [
    {
     "name": "stdout",
     "output_type": "stream",
     "text": [
      "Best lag: 10 with correlation: 0.10425819916060575\n"
     ]
    }
   ],
   "source": [
    "import pandas as pd\n",
    "import numpy as np\n",
    "\n",
    "correlations = {}\n",
    "for lag in range(-10, 11):  # Adjust range as needed\n",
    "    shifted_df = merged_data.copy()\n",
    "    shifted_df['sentiment'] = shifted_df['sentiment'].shift(lag)\n",
    "    correlations[lag] = shifted_df['Adj Close'].corr(shifted_df['sentiment'])\n",
    "\n",
    "# Find the lag with the highest correlation\n",
    "best_lag = max(correlations, key=correlations.get)\n",
    "print(f\"Best lag: {best_lag} with correlation: {correlations[best_lag]}\")\n"
   ]
  },
  {
   "cell_type": "code",
   "execution_count": 154,
   "metadata": {},
   "outputs": [],
   "source": [
    "import pandas as pd\n",
    "import statsmodels.api as sm\n",
    "from statsmodels.tsa.stattools import grangercausalitytests"
   ]
  },
  {
   "cell_type": "code",
   "execution_count": null,
   "metadata": {},
   "outputs": [],
   "source": []
  },
  {
   "cell_type": "code",
   "execution_count": 157,
   "metadata": {},
   "outputs": [
    {
     "name": "stdout",
     "output_type": "stream",
     "text": [
      "\n",
      "Granger Causality\n",
      "number of lags (no zero) 1\n",
      "ssr based F test:         F=0.5650  , p=0.4524  , df_denom=1918, df_num=1\n",
      "ssr based chi2 test:   chi2=0.5659  , p=0.4519  , df=1\n",
      "likelihood ratio test: chi2=0.5658  , p=0.4519  , df=1\n",
      "parameter F test:         F=0.5650  , p=0.4524  , df_denom=1918, df_num=1\n",
      "\n",
      "Granger Causality\n",
      "number of lags (no zero) 2\n",
      "ssr based F test:         F=1.1170  , p=0.3275  , df_denom=1915, df_num=2\n",
      "ssr based chi2 test:   chi2=2.2397  , p=0.3263  , df=2\n",
      "likelihood ratio test: chi2=2.2384  , p=0.3265  , df=2\n",
      "parameter F test:         F=1.1170  , p=0.3275  , df_denom=1915, df_num=2\n",
      "\n",
      "Granger Causality\n",
      "number of lags (no zero) 3\n",
      "ssr based F test:         F=0.8752  , p=0.4532  , df_denom=1912, df_num=3\n",
      "ssr based chi2 test:   chi2=2.6352  , p=0.4513  , df=3\n",
      "likelihood ratio test: chi2=2.6334  , p=0.4517  , df=3\n",
      "parameter F test:         F=0.8752  , p=0.4532  , df_denom=1912, df_num=3\n",
      "\n",
      "Granger Causality\n",
      "number of lags (no zero) 4\n",
      "ssr based F test:         F=0.6906  , p=0.5984  , df_denom=1909, df_num=4\n",
      "ssr based chi2 test:   chi2=2.7756  , p=0.5961  , df=4\n",
      "likelihood ratio test: chi2=2.7736  , p=0.5964  , df=4\n",
      "parameter F test:         F=0.6906  , p=0.5984  , df_denom=1909, df_num=4\n",
      "\n",
      "Granger Causality\n",
      "number of lags (no zero) 5\n",
      "ssr based F test:         F=0.5826  , p=0.7134  , df_denom=1906, df_num=5\n",
      "ssr based chi2 test:   chi2=2.9298  , p=0.7108  , df=5\n",
      "likelihood ratio test: chi2=2.9276  , p=0.7111  , df=5\n",
      "parameter F test:         F=0.5826  , p=0.7134  , df_denom=1906, df_num=5\n"
     ]
    }
   ],
   "source": [
    "# Assuming df is a DataFrame with two columns: 'sentiment' and 'stock_price'\n",
    "# Both columns should be time series data.\n",
    "\n",
    "max_lags = 5  # Define the maximum number of lags you want to test\n",
    "test = 'ssr_chi2test'  # Test type, can be 'ssr_chi2test', 'ssr_ftest', 'lrtest', 'params_ftest'\n",
    "\n",
    "gc_results = grangercausalitytests(merged_data[['Adj Close', 'sentiment']], max_lags, verbose=True)"
   ]
  },
  {
   "cell_type": "code",
   "execution_count": 158,
   "metadata": {},
   "outputs": [
    {
     "data": {
      "image/png": "[encoded data removed]",
      "text/plain": [
       "<Figure size 1200x600 with 1 Axes>"
      ]
     },
     "metadata": {},
     "output_type": "display_data"
    }
   ],
   "source": [
    "import numpy as np\n",
    "import matplotlib.pyplot as plt\n",
    "from statsmodels.tsa.stattools import ccf\n",
    "\n",
    "# Assuming df is your DataFrame with 'sentiment' and 'stock_price' columns\n",
    "\n",
    "# Compute the cross-correlation function\n",
    "ccf_values = ccf(merged_data['sentiment'], merged_data['Adj Close'])\n",
    "\n",
    "# Define the lags\n",
    "lags = np.arange(len(ccf_values))\n",
    "\n",
    "# Plot the CCF\n",
    "plt.figure(figsize=(12, 6))\n",
    "plt.stem(lags, ccf_values)\n",
    "plt.xlabel('Lags')\n",
    "plt.ylabel('Cross-correlation')\n",
    "plt.title('Cross-Correlation Function')\n",
    "plt.show()\n"
   ]
  },
  {
   "cell_type": "code",
   "execution_count": 159,
   "metadata": {},
   "outputs": [],
   "source": [
    "import pandas as pd\n",
    "import statsmodels.api as sm\n",
    "from sklearn.metrics import mean_absolute_percentage_error\n",
    "import numpy as np"
   ]
  },
  {
   "cell_type": "code",
   "execution_count": 160,
   "metadata": {},
   "outputs": [],
   "source": [
    "\n",
    "# Define your target and exogenous variable\n",
    "y = merged_data['Adj Close']\n",
    "exog = merged_data[['sentiment']]  # Exogenous variable\n",
    "\n"
   ]
  },
  {
   "cell_type": "code",
   "execution_count": 161,
   "metadata": {},
   "outputs": [],
   "source": [
    "# Train/Test Split\n",
    "n = len(merged_data)\n",
    "train_size = int(n * 0.8)\n",
    "y_train, y_test = y[:train_size], y[train_size:]\n",
    "exog_train, exog_test = exog[:train_size], exog[train_size:]\n",
    "\n"
   ]
  },
  {
   "cell_type": "code",
   "execution_count": 162,
   "metadata": {},
   "outputs": [
    {
     "name": "stdout",
     "output_type": "stream",
     "text": [
      "RUNNING THE L-BFGS-B CODE\n",
      "\n",
      "           * * *\n",
      "\n",
      "Machine precision = 2.220D-16\n",
      " N =            6     M =           10\n",
      "\n",
      "At X0         0 variables are exactly at the bounds\n",
      "\n",
      "At iterate    0    f=  3.91266D+00    |proj g|=  7.68048D-02\n"
     ]
    },
    {
     "name": "stderr",
     "output_type": "stream",
     "text": [
      " This problem is unconstrained.\n"
     ]
    }
   ],
   "source": [
    "model = sm.tsa.statespace.SARIMAX(y_train, order=(1, 1, 1), seasonal_order=(1, 1, 1, 200), exog=exog_train)\n",
    "# Fit the model\n",
    "results = model.fit()"
   ]
  },
  {
   "cell_type": "code",
   "execution_count": 129,
   "metadata": {},
   "outputs": [
    {
     "name": "stdout",
     "output_type": "stream",
     "text": [
      "MAPE: 0.300944688170262\n"
     ]
    }
   ],
   "source": [
    "# Make predictions\n",
    "predictions = results.predict(start=train_size, end=n-1, exog=exog_test)\n",
    "\n",
    "# Evaluate the model\n",
    "mse = mean_absolute_percentage_error(y_test, predictions)\n",
    "rmse = np.sqrt(mse)\n",
    "\n",
    "print(f\"MAPE: {rmse}\")"
   ]
  },
  {
   "cell_type": "code",
   "execution_count": null,
   "metadata": {},
   "outputs": [],
   "source": []
  }
 ],
 "metadata": {
  "kernelspec": {
   "display_name": "base",
   "language": "python",
   "name": "python3"
  },
  "language_info": {
   "codemirror_mode": {
    "name": "ipython",
    "version": 3
   },
   "file_extension": ".py",
   "mimetype": "text/x-python",
   "name": "python",
   "nbconvert_exporter": "python",
   "pygments_lexer": "ipython3",
   "version": "3.9.16"
  }
 },
 "nbformat": 4,
 "nbformat_minor": 2
}
