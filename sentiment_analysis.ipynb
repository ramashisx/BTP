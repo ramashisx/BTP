{
 "cells": [
  {
   "cell_type": "code",
   "execution_count": 30,
   "metadata": {},
   "outputs": [],
   "source": [
    "import pandas as pd\n",
    "from tqdm.auto import tqdm"
   ]
  },
  {
   "cell_type": "code",
   "execution_count": 2,
   "metadata": {},
   "outputs": [],
   "source": [
    "data = pd.read_csv(\"extracted_data.csv\")"
   ]
  },
  {
   "cell_type": "code",
   "execution_count": 3,
   "metadata": {},
   "outputs": [
    {
     "data": {
      "text/html": [
       "<div>\n",
       "<style scoped>\n",
       "    .dataframe tbody tr th:only-of-type {\n",
       "        vertical-align: middle;\n",
       "    }\n",
       "\n",
       "    .dataframe tbody tr th {\n",
       "        vertical-align: top;\n",
       "    }\n",
       "\n",
       "    .dataframe thead th {\n",
       "        text-align: right;\n",
       "    }\n",
       "</style>\n",
       "<table border=\"1\" class=\"dataframe\">\n",
       "  <thead>\n",
       "    <tr style=\"text-align: right;\">\n",
       "      <th></th>\n",
       "      <th>Date</th>\n",
       "      <th>link</th>\n",
       "      <th>text</th>\n",
       "    </tr>\n",
       "  </thead>\n",
       "  <tbody>\n",
       "    <tr>\n",
       "      <th>0</th>\n",
       "      <td>October 04, 2023 11:16 AM IST</td>\n",
       "      <td>https://www.moneycontrol.com/news/business/mar...</td>\n",
       "      <td>HDFC Bank's stock has declined by over 9 perce...</td>\n",
       "    </tr>\n",
       "    <tr>\n",
       "      <th>1</th>\n",
       "      <td>October 03, 2023 04:14 PM IST</td>\n",
       "      <td>https://www.moneycontrol.com/news/business/hdf...</td>\n",
       "      <td>HDFC Bank Shares Have Trailed Private Lenders ...</td>\n",
       "    </tr>\n",
       "    <tr>\n",
       "      <th>2</th>\n",
       "      <td>September 24, 2023 11:40 AM IST</td>\n",
       "      <td>https://www.moneycontrol.com/news/business/ban...</td>\n",
       "      <td>The combined market valuation of eight of the ...</td>\n",
       "    </tr>\n",
       "    <tr>\n",
       "      <th>3</th>\n",
       "      <td>September 21, 2023 04:34 PM IST</td>\n",
       "      <td>https://www.moneycontrol.com/news/business/hdf...</td>\n",
       "      <td>HDFC AMC holds a 4.49 per cent stake in Kerala...</td>\n",
       "    </tr>\n",
       "    <tr>\n",
       "      <th>4</th>\n",
       "      <td>August 25, 2023 06:54 PM IST</td>\n",
       "      <td>https://www.moneycontrol.com/news/business/ban...</td>\n",
       "      <td>HDFC Bank\\n\\nlive bse live\\n\\nnse live Volume ...</td>\n",
       "    </tr>\n",
       "    <tr>\n",
       "      <th>...</th>\n",
       "      <td>...</td>\n",
       "      <td>...</td>\n",
       "      <td>...</td>\n",
       "    </tr>\n",
       "    <tr>\n",
       "      <th>744</th>\n",
       "      <td>December 05, 2016 09:50 AM IST</td>\n",
       "      <td>https://www.moneycontrol.com/news/business/mar...</td>\n",
       "      <td>Moneycontrol Bureau9:55 am Deal seal? Tata Ste...</td>\n",
       "    </tr>\n",
       "    <tr>\n",
       "      <th>745</th>\n",
       "      <td>December 02, 2016 11:10 AM IST</td>\n",
       "      <td>https://www.moneycontrol.com/news/business/mar...</td>\n",
       "      <td>Moneycontrol Bureau10:59 am Market Update: The...</td>\n",
       "    </tr>\n",
       "    <tr>\n",
       "      <th>746</th>\n",
       "      <td>November 25, 2016 10:22 PM IST</td>\n",
       "      <td>https://www.moneycontrol.com/news/business/mar...</td>\n",
       "      <td>Moneycontrol Bureau\\n\\nSpectacular rally on Fr...</td>\n",
       "    </tr>\n",
       "    <tr>\n",
       "      <th>747</th>\n",
       "      <td>November 25, 2016 11:03 AM IST</td>\n",
       "      <td>https://www.moneycontrol.com/news/business/mar...</td>\n",
       "      <td>Moneycontrol Bureau9:55 am Market check: The S...</td>\n",
       "    </tr>\n",
       "    <tr>\n",
       "      <th>748</th>\n",
       "      <td>November 23, 2016 01:02 PM IST</td>\n",
       "      <td>https://www.moneycontrol.com/news/business/mar...</td>\n",
       "      <td>Moneycontrol Bureau12:58 pm Market Update: The...</td>\n",
       "    </tr>\n",
       "  </tbody>\n",
       "</table>\n",
       "<p>749 rows × 3 columns</p>\n",
       "</div>"
      ],
      "text/plain": [
       "                                Date  \\\n",
       "0      October 04, 2023 11:16 AM IST   \n",
       "1      October 03, 2023 04:14 PM IST   \n",
       "2    September 24, 2023 11:40 AM IST   \n",
       "3    September 21, 2023 04:34 PM IST   \n",
       "4       August 25, 2023 06:54 PM IST   \n",
       "..                               ...   \n",
       "744   December 05, 2016 09:50 AM IST   \n",
       "745   December 02, 2016 11:10 AM IST   \n",
       "746   November 25, 2016 10:22 PM IST   \n",
       "747   November 25, 2016 11:03 AM IST   \n",
       "748   November 23, 2016 01:02 PM IST   \n",
       "\n",
       "                                                  link  \\\n",
       "0    https://www.moneycontrol.com/news/business/mar...   \n",
       "1    https://www.moneycontrol.com/news/business/hdf...   \n",
       "2    https://www.moneycontrol.com/news/business/ban...   \n",
       "3    https://www.moneycontrol.com/news/business/hdf...   \n",
       "4    https://www.moneycontrol.com/news/business/ban...   \n",
       "..                                                 ...   \n",
       "744  https://www.moneycontrol.com/news/business/mar...   \n",
       "745  https://www.moneycontrol.com/news/business/mar...   \n",
       "746  https://www.moneycontrol.com/news/business/mar...   \n",
       "747  https://www.moneycontrol.com/news/business/mar...   \n",
       "748  https://www.moneycontrol.com/news/business/mar...   \n",
       "\n",
       "                                                  text  \n",
       "0    HDFC Bank's stock has declined by over 9 perce...  \n",
       "1    HDFC Bank Shares Have Trailed Private Lenders ...  \n",
       "2    The combined market valuation of eight of the ...  \n",
       "3    HDFC AMC holds a 4.49 per cent stake in Kerala...  \n",
       "4    HDFC Bank\\n\\nlive bse live\\n\\nnse live Volume ...  \n",
       "..                                                 ...  \n",
       "744  Moneycontrol Bureau9:55 am Deal seal? Tata Ste...  \n",
       "745  Moneycontrol Bureau10:59 am Market Update: The...  \n",
       "746  Moneycontrol Bureau\\n\\nSpectacular rally on Fr...  \n",
       "747  Moneycontrol Bureau9:55 am Market check: The S...  \n",
       "748  Moneycontrol Bureau12:58 pm Market Update: The...  \n",
       "\n",
       "[749 rows x 3 columns]"
      ]
     },
     "execution_count": 3,
     "metadata": {},
     "output_type": "execute_result"
    }
   ],
   "source": [
    "data"
   ]
  },
  {
   "cell_type": "code",
   "execution_count": 7,
   "metadata": {},
   "outputs": [
    {
     "name": "stderr",
     "output_type": "stream",
     "text": [
      "/tmp/ipykernel_102132/2487158108.py:1: UserWarning: Could not infer format, so each element will be parsed individually, falling back to `dateutil`. To ensure parsing is consistent and as-expected, please specify a format.\n",
      "  data[\"Date\"] = pd.to_datetime(data[\"Date\"])\n",
      "/tmp/ipykernel_102132/2487158108.py:1: FutureWarning: Parsing '{res.tzname}' as tzlocal (dependent on system timezone) is deprecated and will raise in a future version. Pass the 'tz' keyword or call tz_localize after construction instead\n",
      "  data[\"Date\"] = pd.to_datetime(data[\"Date\"])\n"
     ]
    }
   ],
   "source": [
    "data[\"Date\"] = pd.to_datetime(data[\"Date\"])"
   ]
  },
  {
   "cell_type": "code",
   "execution_count": 8,
   "metadata": {},
   "outputs": [],
   "source": [
    "data[\"len\"] =  data[\"text\"].apply(lambda x: len(x.split()))"
   ]
  },
  {
   "cell_type": "code",
   "execution_count": 9,
   "metadata": {},
   "outputs": [],
   "source": [
    "model_name = \"mrm8488/distilroberta-finetuned-financial-news-sentiment-analysis\"\n",
    "model_name = \"yiyanghkust/finbert-tone\""
   ]
  },
  {
   "cell_type": "code",
   "execution_count": 12,
   "metadata": {},
   "outputs": [
    {
     "data": {
      "application/vnd.jupyter.widget-view+json": {
       "model_id": "b118e918e89146a498933e7aa09f1d11",
       "version_major": 2,
       "version_minor": 0
      },
      "text/plain": [
       "Downloading config.json:   0%|          | 0.00/533 [00:00<?, ?B/s]"
      ]
     },
     "metadata": {},
     "output_type": "display_data"
    },
    {
     "data": {
      "application/vnd.jupyter.widget-view+json": {
       "model_id": "a817252573454f84870cfce0dc55571e",
       "version_major": 2,
       "version_minor": 0
      },
      "text/plain": [
       "Downloading pytorch_model.bin:   0%|          | 0.00/439M [00:00<?, ?B/s]"
      ]
     },
     "metadata": {},
     "output_type": "display_data"
    },
    {
     "data": {
      "application/vnd.jupyter.widget-view+json": {
       "model_id": "09e621b5b05143659038d3c9f6ad54a7",
       "version_major": 2,
       "version_minor": 0
      },
      "text/plain": [
       "Downloading vocab.txt:   0%|          | 0.00/226k [00:00<?, ?B/s]"
      ]
     },
     "metadata": {},
     "output_type": "display_data"
    },
    {
     "name": "stderr",
     "output_type": "stream",
     "text": [
      "Xformers is not installed correctly. If you want to use memory_efficient_attention to accelerate training use the following command to install Xformers\n",
      "pip install xformers.\n"
     ]
    }
   ],
   "source": [
    "from transformers import pipeline\n",
    "nlp = pipeline(\"sentiment-analysis\", model=model_name)"
   ]
  },
  {
   "cell_type": "code",
   "execution_count": 21,
   "metadata": {},
   "outputs": [
    {
     "data": {
      "text/plain": [
       "0    1\n",
       "Name: label, dtype: int64"
      ]
     },
     "execution_count": 21,
     "metadata": {},
     "output_type": "execute_result"
    }
   ],
   "source": [
    "pd.DataFrame(nlp([\"I am very sad\"]))[\"label\"].map(MAP)"
   ]
  },
  {
   "cell_type": "code",
   "execution_count": 20,
   "metadata": {},
   "outputs": [],
   "source": [
    "MAP = {\n",
    "    \"Positive\": 1,\n",
    "    \"Negative\": -1,\n",
    "    \"neutral\": 0\n",
    "}"
   ]
  },
  {
   "cell_type": "code",
   "execution_count": 23,
   "metadata": {},
   "outputs": [],
   "source": [
    "def sentiment_article(article):\n",
    "    pieces = article.split(\"\\n\")\n",
    "    analysis = nlp(pieces)\n",
    "    analysis = pd.DataFrame(analysis)\n",
    "    analysis[\"factor\"] = analysis[\"label\"].map(MAP)\n",
    "    analysis[\"new_score\"] = analysis[\"score\"]*analysis[\"factor\"]\n",
    "    return analysis[\"new_score\"].mean()"
   ]
  },
  {
   "cell_type": "code",
   "execution_count": 36,
   "metadata": {},
   "outputs": [
    {
     "data": {
      "application/vnd.jupyter.widget-view+json": {
       "model_id": "074fe78a35f544d9b6b47856ee00fb71",
       "version_major": 2,
       "version_minor": 0
      },
      "text/plain": [
       "  0%|          | 0/749 [00:00<?, ?it/s]"
      ]
     },
     "metadata": {},
     "output_type": "display_data"
    }
   ],
   "source": [
    "sentiment = []\n",
    "for _, row in tqdm(data.iterrows(), total=len(data)):\n",
    "    try:\n",
    "        sentiment.append(sentiment_article(row[\"text\"]))\n",
    "    except:\n",
    "        sentiment.append(0)"
   ]
  },
  {
   "cell_type": "code",
   "execution_count": 37,
   "metadata": {},
   "outputs": [],
   "source": [
    "data[\"sentiment\"] = sentiment"
   ]
  },
  {
   "cell_type": "code",
   "execution_count": null,
   "metadata": {},
   "outputs": [],
   "source": [
    "data.to_csv(\"final_data.csv\", index=False)"
   ]
  },
  {
   "cell_type": "code",
   "execution_count": null,
   "metadata": {},
   "outputs": [],
   "source": []
  },
  {
   "cell_type": "code",
   "execution_count": null,
   "metadata": {},
   "outputs": [],
   "source": []
  }
 ],
 "metadata": {
  "kernelspec": {
   "display_name": "google_search_scrapper",
   "language": "python",
   "name": "python3"
  },
  "language_info": {
   "codemirror_mode": {
    "name": "ipython",
    "version": 3
   },
   "file_extension": ".py",
   "mimetype": "text/x-python",
   "name": "python",
   "nbconvert_exporter": "python",
   "pygments_lexer": "ipython3",
   "version": "3.9.16"
  }
 },
 "nbformat": 4,
 "nbformat_minor": 2
}
