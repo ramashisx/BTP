{
 "cells": [
  {
   "cell_type": "code",
   "execution_count": 1,
   "id": "initial_id",
   "metadata": {
    "ExecuteTime": {
     "end_time": "2023-09-05T10:36:03.625961567Z",
     "start_time": "2023-09-05T10:36:03.500389521Z"
    },
    "collapsed": true
   },
   "outputs": [],
   "source": [
    "import pandas as pd\n",
    "import time\n",
    "from bs4 import BeautifulSoup\n",
    "from selenium import webdriver\n",
    "from selenium.webdriver.common.keys import Keys\n",
    "from selenium.webdriver.common.by import By\n",
    "from selenium.common.exceptions import NoSuchElementException"
   ]
  },
  {
   "cell_type": "code",
   "execution_count": 2,
   "metadata": {},
   "outputs": [],
   "source": [
    "LINK = \"https://www.moneycontrol.com/news/tags/hdfc.html/news/\""
   ]
  },
  {
   "cell_type": "code",
   "execution_count": 3,
   "id": "35563573cc7f2990",
   "metadata": {
    "ExecuteTime": {
     "end_time": "2023-09-05T10:34:05.822549787Z",
     "start_time": "2023-09-05T10:33:59.004764545Z"
    },
    "collapsed": false
   },
   "outputs": [],
   "source": [
    "# Initialize the Chrome driver\n",
    "driver = webdriver.Chrome()\n",
    "\n",
    "# Open LINK\n",
    "driver.get(LINK)"
   ]
  },
  {
   "cell_type": "code",
   "execution_count": null,
   "metadata": {},
   "outputs": [],
   "source": []
  },
  {
   "cell_type": "code",
   "execution_count": 4,
   "metadata": {},
   "outputs": [],
   "source": [
    "def get_page_number(link):\n",
    "    return int(link.split(\"/\")[-2].split(\"-\")[-1])\n",
    "\n",
    "def get_page_link(num, link=LINK):\n",
    "    return f\"{link}page-{num}/\""
   ]
  },
  {
   "cell_type": "code",
   "execution_count": 5,
   "metadata": {},
   "outputs": [],
   "source": [
    "last_page_button = driver.find_element(\n",
    "    By.CLASS_NAME, \"pagenation\").find_elements(\n",
    "        By.CLASS_NAME, \"last\"\n",
    "    )[-1]"
   ]
  },
  {
   "cell_type": "code",
   "execution_count": 6,
   "metadata": {},
   "outputs": [],
   "source": [
    "total_pages = get_page_number(last_page_button.get_attribute(\"href\"))"
   ]
  },
  {
   "cell_type": "code",
   "execution_count": 7,
   "metadata": {},
   "outputs": [],
   "source": [
    "def get_articles_div(page):\n",
    "    return page.find_element(\n",
    "        By.CLASS_NAME, \"topictabpane\").find_elements(By.CLASS_NAME, \"clearfix\")\n",
    "\n",
    "def get_article_metadata(article, article_num):\n",
    "    try:\n",
    "        return (\n",
    "            article.find_element(\n",
    "                By.CLASS_NAME, \"lazy-container\").text, \n",
    "            article.find_element(\n",
    "                By.CLASS_NAME, \"lazy-container\").find_element(By.TAG_NAME, \"a\").get_attribute(\"href\")\n",
    "            )\n",
    "    except:\n",
    "        \n",
    "        return (\n",
    "            article.find_element(\n",
    "                By.TAG_NAME, \"a\").find_element(By.XPATH, f'//*[@id=\"newslist-{article_num}\"]/span').text,\n",
    "            article.find_element(\n",
    "                By.TAG_NAME, \"a\").get_attribute(\"href\")\n",
    "        )"
   ]
  },
  {
   "cell_type": "code",
   "execution_count": 9,
   "metadata": {},
   "outputs": [],
   "source": [
    "data = []\n",
    "for page_num in range(1, total_pages+1):\n",
    "    page_link = get_page_link(page_num, LINK)\n",
    "    driver.get(page_link)\n",
    "    articles = get_articles_div(driver)\n",
    "    for i, article in enumerate(articles):\n",
    "        data.append(get_article_metadata(article, i))\n",
    "    "
   ]
  },
  {
   "cell_type": "code",
   "execution_count": 32,
   "metadata": {},
   "outputs": [],
   "source": [
    "data = pd.DataFrame(data)\n",
    "data.columns = [\"Date\", \"link\"]\n",
    "data.to_csv(\"checkpoint.csv\", index=False)"
   ]
  },
  {
   "cell_type": "code",
   "execution_count": 16,
   "id": "d55c040a",
   "metadata": {},
   "outputs": [],
   "source": [
    "from newspaper import Article\n",
    "from tqdm.notebook import tqdm"
   ]
  },
  {
   "cell_type": "code",
   "execution_count": null,
   "metadata": {},
   "outputs": [],
   "source": []
  },
  {
   "cell_type": "code",
   "execution_count": 20,
   "id": "8b9b0599a1535d35",
   "metadata": {
    "ExecuteTime": {
     "end_time": "2023-09-05T10:41:38.522391071Z",
     "start_time": "2023-09-05T10:36:07.152636139Z"
    },
    "collapsed": false
   },
   "outputs": [
    {
     "data": {
      "application/vnd.jupyter.widget-view+json": {
       "model_id": "767d1859ac604fbaae8e30a450d6bda7",
       "version_major": 2,
       "version_minor": 0
      },
      "text/plain": [
       "  0%|          | 0/749 [00:00<?, ?it/s]"
      ]
     },
     "metadata": {},
     "output_type": "display_data"
    },
    {
     "name": "stdout",
     "output_type": "stream",
     "text": [
      "https://www.moneycontrol.com/news/india/moneycontrol-selects-top-stories-this-afternoon-134-11168701.html\n",
      "https://www.moneycontrol.com/news/business/markets/hdfc-says-july-13-delisting-date-is-tentative-10867861.html\n",
      "https://www.moneycontrol.com/news/business/hdfcs-exit-from-corporate-bond-market-brings-cheer-to-smaller-issuers-as-borrowing-costs-fall-10866981.html\n",
      "https://www.moneycontrol.com/news/business/expecting-regulatory-approval-within-a-month-for-credila-sale-parekh-10866001.html\n"
     ]
    }
   ],
   "source": [
    "main_data = []\n",
    "failed = []\n",
    "for link in tqdm(data[1].to_list()):\n",
    "    try:\n",
    "        article = Article(link)\n",
    "        article.download()\n",
    "        article.parse()\n",
    "        main_data.append({'link': link, 'text': article.text})\n",
    "    except:\n",
    "        print(link)\n",
    "        failed.append(link)"
   ]
  },
  {
   "cell_type": "code",
   "execution_count": 23,
   "id": "c9ed5ef2",
   "metadata": {},
   "outputs": [
    {
     "data": {
      "text/plain": [
       "4"
      ]
     },
     "execution_count": 23,
     "metadata": {},
     "output_type": "execute_result"
    }
   ],
   "source": [
    "len(failed)"
   ]
  },
  {
   "cell_type": "code",
   "execution_count": 24,
   "id": "3175e13c",
   "metadata": {},
   "outputs": [
    {
     "data": {
      "application/vnd.jupyter.widget-view+json": {
       "model_id": "0255fcf165a04a71a4be531284ced335",
       "version_major": 2,
       "version_minor": 0
      },
      "text/plain": [
       "  0%|          | 0/4 [00:00<?, ?it/s]"
      ]
     },
     "metadata": {},
     "output_type": "display_data"
    }
   ],
   "source": [
    "retry_data = []\n",
    "failed_again = []\n",
    "for link in tqdm(failed):\n",
    "    try:\n",
    "        article = Article(link)\n",
    "        article.download()\n",
    "        article.parse()\n",
    "        retry_data.append({'link': link, 'text': article.text})\n",
    "    except:\n",
    "        print(link)\n",
    "        failed_again.append(link)"
   ]
  },
  {
   "cell_type": "code",
   "execution_count": 27,
   "id": "4137d2d5",
   "metadata": {},
   "outputs": [],
   "source": [
    "main_data.extend(retry_data)"
   ]
  },
  {
   "cell_type": "code",
   "execution_count": 30,
   "id": "9fd8aac1fa4b6c84",
   "metadata": {
    "ExecuteTime": {
     "end_time": "2023-09-05T10:42:37.989988881Z",
     "start_time": "2023-09-05T10:42:37.976054880Z"
    },
    "collapsed": false
   },
   "outputs": [],
   "source": [
    "# Create a pandas DataFrame from the data list\n",
    "df = pd.DataFrame(main_data)"
   ]
  },
  {
   "cell_type": "code",
   "execution_count": 38,
   "metadata": {},
   "outputs": [],
   "source": [
    "data = data.merge(df)"
   ]
  },
  {
   "cell_type": "code",
   "execution_count": 39,
   "metadata": {},
   "outputs": [
    {
     "name": "stdout",
     "output_type": "stream",
     "text": [
      "Data extraction and saving complete.\n"
     ]
    }
   ],
   "source": [
    "data.to_csv('extracted_data.csv', index=False)\n",
    "\n",
    "print(\"Data extraction and saving complete.\")"
   ]
  },
  {
   "cell_type": "code",
   "execution_count": 40,
   "id": "1428892692a7e40b",
   "metadata": {
    "ExecuteTime": {
     "end_time": "2023-09-05T10:42:56.799820151Z",
     "start_time": "2023-09-05T10:42:56.639290297Z"
    },
    "collapsed": false
   },
   "outputs": [],
   "source": [
    "driver.quit()"
   ]
  },
  {
   "cell_type": "code",
   "execution_count": null,
   "id": "1aa18ea188f2eb36",
   "metadata": {
    "collapsed": false
   },
   "outputs": [],
   "source": []
  }
 ],
 "metadata": {
  "kernelspec": {
   "display_name": "Python 3",
   "language": "python",
   "name": "python3"
  },
  "language_info": {
   "codemirror_mode": {
    "name": "ipython",
    "version": 3
   },
   "file_extension": ".py",
   "mimetype": "text/x-python",
   "name": "python",
   "nbconvert_exporter": "python",
   "pygments_lexer": "ipython3",
   "version": "3.9.17"
  }
 },
 "nbformat": 4,
 "nbformat_minor": 5
}
