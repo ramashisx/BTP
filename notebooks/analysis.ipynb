{
 "cells": [
  {
   "cell_type": "code",
   "execution_count": 2,
   "metadata": {},
   "outputs": [],
   "source": [
    "import pandas as pd\n",
    "import seaborn as sns\n",
    "import matplotlib.pyplot as plt\n",
    "import yfinance as yf"
   ]
  },
  {
   "cell_type": "code",
   "execution_count": 3,
   "metadata": {},
   "outputs": [],
   "source": [
    "with open(\"../data/metadata.py\") as fp:\n",
    "    data = fp.read()\n",
    "    METADATA = eval(data.replace(\"\\n\", \"\"))"
   ]
  },
  {
   "cell_type": "code",
   "execution_count": 23,
   "metadata": {},
   "outputs": [
    {
     "name": "stdout",
     "output_type": "stream",
     "text": [
      "https://www.moneycontrol.com/news/tags/hdfc.html/news/ HDFC\n",
      "[*********************100%%**********************]  1 of 1 completed"
     ]
    },
    {
     "name": "stderr",
     "output_type": "stream",
     "text": [
      "\n",
      "1 Failed download:\n",
      "['HDFC.NS']: Exception('%ticker%: No price data found, symbol may be delisted (1d 2016-11-23 -> 2023-10-04)')\n"
     ]
    },
    {
     "name": "stdout",
     "output_type": "stream",
     "text": [
      "\n",
      "           Adj Close  sentiment\n",
      "Adj Close        0.0        0.0\n",
      "sentiment        0.0        0.0\n",
      "https://www.moneycontrol.com/news/tags/infy.html/news/ INFY\n",
      "[*********************100%%**********************]  1 of 1 completed\n",
      "           Adj Close  sentiment\n",
      "Adj Close   1.000000   0.439464\n",
      "sentiment   0.439464   1.000000\n",
      "https://www.moneycontrol.com/news/tags/tcs.html/news/ TCS\n",
      "[*********************100%%**********************]  1 of 1 completed\n",
      "           Adj Close  sentiment\n",
      "Adj Close   1.000000   0.002548\n",
      "sentiment   0.002548   1.000000\n",
      "https://www.moneycontrol.com/news/tags/hindustan-unilever.html/news/ HINDUNILVR\n",
      "[*********************100%%**********************]  1 of 1 completed\n",
      "           Adj Close  sentiment\n",
      "Adj Close   1.000000   0.110234\n",
      "sentiment   0.110234   1.000000\n",
      "https://www.moneycontrol.com/news/tags/hdfc-bank.html/news/ HDFCBANK\n",
      "[*********************100%%**********************]  1 of 1 completed\n",
      "           Adj Close  sentiment\n",
      "Adj Close   1.000000   0.065571\n",
      "sentiment   0.065571   1.000000\n",
      "https://www.moneycontrol.com/news/tags/reliance.html/news/ RELIANCE\n",
      "[*********************100%%**********************]  1 of 1 completed\n",
      "           Adj Close  sentiment\n",
      "Adj Close   1.000000   0.247378\n",
      "sentiment   0.247378   1.000000\n",
      "https://www.moneycontrol.com/news/tags/tata-steel.html/news/ TATASTEEL\n",
      "[*********************100%%**********************]  1 of 1 completed\n",
      "           Adj Close  sentiment\n",
      "Adj Close   1.000000   0.255332\n",
      "sentiment   0.255332   1.000000\n",
      "https://www.moneycontrol.com/news/tags/ongc.html/news/ ONGC\n",
      "[*********************100%%**********************]  1 of 1 completed\n",
      "           Adj Close  sentiment\n",
      "Adj Close   1.000000   0.161782\n",
      "sentiment   0.161782   1.000000\n",
      "https://www.moneycontrol.com/news/tags/power-grid.html/news/ POWERGRID\n",
      "[*********************100%%**********************]  1 of 1 completed\n",
      "           Adj Close  sentiment\n",
      "Adj Close   1.000000  -0.007501\n",
      "sentiment  -0.007501   1.000000\n",
      "https://www.moneycontrol.com/news/tags/tech-mahindra.html/news/ TECHM\n",
      "[*********************100%%**********************]  1 of 1 completed\n",
      "           Adj Close  sentiment\n",
      "Adj Close   1.000000   0.143079\n",
      "sentiment   0.143079   1.000000\n",
      "https://www.moneycontrol.com/news/tags/bajaj-auto.html/news/ BAJAJ-AUTO\n",
      "[*********************100%%**********************]  1 of 1 completed\n",
      "           Adj Close  sentiment\n",
      "Adj Close   1.000000   0.047077\n",
      "sentiment   0.047077   1.000000\n",
      "https://www.moneycontrol.com/news/tags/sun-pharma.html/news/ SUNPHARMA\n",
      "[*********************100%%**********************]  1 of 1 completed\n",
      "           Adj Close  sentiment\n",
      "Adj Close    1.00000   -0.02108\n",
      "sentiment   -0.02108    1.00000\n",
      "https://www.moneycontrol.com/news/tags/titan.html/news/ TITAN\n",
      "[*********************100%%**********************]  1 of 1 completed\n",
      "           Adj Close  sentiment\n",
      "Adj Close   1.000000   0.015562\n",
      "sentiment   0.015562   1.000000\n",
      "https://www.moneycontrol.com/news/tags/bajaj-finserv.html/news/ BAJAJFINSV\n",
      "[*********************100%%**********************]  1 of 1 completed\n",
      "           Adj Close  sentiment\n",
      "Adj Close   1.000000   0.124807\n",
      "sentiment   0.124807   1.000000\n",
      "https://www.moneycontrol.com/news/tags/larsen.html/news/ LT\n",
      "[*********************100%%**********************]  1 of 1 completed\n",
      "           Adj Close  sentiment\n",
      "Adj Close    1.00000    0.20543\n",
      "sentiment    0.20543    1.00000\n",
      "https://www.moneycontrol.com/news/tags/asian-paints.html/news/ ASIANPAINT\n",
      "[*********************100%%**********************]  1 of 1 completed\n",
      "           Adj Close  sentiment\n",
      "Adj Close   1.000000   0.206132\n",
      "sentiment   0.206132   1.000000\n",
      "https://www.moneycontrol.com/news/tags/axis-bank.html/news/ AXISBANK\n",
      "[*********************100%%**********************]  1 of 1 completed\n",
      "           Adj Close  sentiment\n",
      "Adj Close    1.00000    0.15182\n",
      "sentiment    0.15182    1.00000\n",
      "https://www.moneycontrol.com/news/tags/hcl-tech.html/news/ HCLTECH\n",
      "[*********************100%%**********************]  1 of 1 completed\n",
      "           Adj Close  sentiment\n",
      "Adj Close   1.000000   0.024423\n",
      "sentiment   0.024423   1.000000\n",
      "https://www.moneycontrol.com/news/tags/sbi.html/news/ SBIN\n",
      "[*********************100%%**********************]  1 of 1 completed\n",
      "           Adj Close  sentiment\n",
      "Adj Close   1.000000   0.165466\n",
      "sentiment   0.165466   1.000000\n",
      "https://www.moneycontrol.com/news/tags/maruti.html/news/ MARUTI\n",
      "[*********************100%%**********************]  1 of 1 completed\n",
      "           Adj Close  sentiment\n",
      "Adj Close   1.000000   0.159106\n",
      "sentiment   0.159106   1.000000\n",
      "https://www.moneycontrol.com/news/tags/nestle.html/news/ NESTLEIND\n",
      "[*********************100%%**********************]  1 of 1 completed\n",
      "           Adj Close  sentiment\n",
      "Adj Close   1.000000   0.164149\n",
      "sentiment   0.164149   1.000000\n",
      "https://www.moneycontrol.com/news/tags/mahindra-and-mahindra.html/news/ M&M\n",
      "[*********************100%%**********************]  1 of 1 completed\n",
      "           Adj Close  sentiment\n",
      "Adj Close    1.00000    0.26584\n",
      "sentiment    0.26584    1.00000\n",
      "https://www.moneycontrol.com/news/tags/ultratech-cement.html/news/ ULTRACEMCO\n",
      "[*********************100%%**********************]  1 of 1 completed\n",
      "           Adj Close  sentiment\n",
      "Adj Close   1.000000   0.192196\n",
      "sentiment   0.192196   1.000000\n",
      "https://www.moneycontrol.com/news/tags/kotak-mahindra-bank.html/news/ KOTAKBANK\n",
      "[*********************100%%**********************]  1 of 1 completed\n",
      "           Adj Close  sentiment\n",
      "Adj Close   1.000000   0.191226\n",
      "sentiment   0.191226   1.000000\n",
      "https://www.moneycontrol.com/news/tags/itc.html/news/ ITC\n",
      "[*********************100%%**********************]  1 of 1 completed\n",
      "           Adj Close  sentiment\n",
      "Adj Close    1.00000    0.13028\n",
      "sentiment    0.13028    1.00000\n",
      "https://www.moneycontrol.com/news/tags/airtel.html/news/ BHARTIARTL\n",
      "[*********************100%%**********************]  1 of 1 completed\n",
      "           Adj Close  sentiment\n",
      "Adj Close   1.000000   0.199767\n",
      "sentiment   0.199767   1.000000\n"
     ]
    }
   ],
   "source": [
    "correlations = []\n",
    "for data in METADATA:\n",
    "\n",
    "    LINK = data[\"link\"]\n",
    "    TICKER = data[\"ticker\"]\n",
    "    print(LINK, TICKER)\n",
    "\n",
    "    data = pd.read_csv(f\"../data/final_data/final_data_{TICKER}.csv\")\n",
    "    data[\"Date\"] = pd.to_datetime(data[\"Date\"]).dt.date\n",
    "    hist = yf.download(f\"{TICKER}.NS\", str(data[\"Date\"].iloc[-1]), str(data[\"Date\"].iloc[0]))[[\"Adj Close\"]].reset_index()\n",
    "\n",
    "    hist[\"Date\"] = pd.to_datetime(hist[\"Date\"]).dt.date\n",
    "    merged_data = data.merge(hist, how=\"right\")\n",
    "    merged_data = merged_data.bfill()\n",
    "    corr = merged_data[[\"Adj Close\", \"sentiment\"]].corr().fillna(0)\n",
    "    print(corr)\n",
    "    correlations.append(corr[\"sentiment\"][0])"
   ]
  },
  {
   "cell_type": "code",
   "execution_count": 33,
   "metadata": {},
   "outputs": [
    {
     "data": {
      "text/plain": [
       "Text(0.14000344855725635, 10, 'Mean: 0.14')"
      ]
     },
     "execution_count": 33,
     "metadata": {},
     "output_type": "execute_result"
    },
    {
     "data": {
      "image/png": "[encoded data removed]",
      "text/plain": [
       "<Figure size 640x480 with 1 Axes>"
      ]
     },
     "metadata": {},
     "output_type": "display_data"
    }
   ],
   "source": [
    "sns.histplot(correlations, kde=True)\n",
    "mean_value = sum(correlations)/len(correlations)\n",
    "plt.axvline(mean_value, color='red', linestyle='--')\n",
    "plt.text(mean_value, 10, f'Mean: {mean_value:.2f}', color='red')"
   ]
  },
  {
   "cell_type": "code",
   "execution_count": null,
   "metadata": {},
   "outputs": [],
   "source": []
  },
  {
   "cell_type": "code",
   "execution_count": 153,
   "metadata": {},
   "outputs": [
    {
     "name": "stdout",
     "output_type": "stream",
     "text": [
      "Best lag: 10 with correlation: 0.10425819916060575\n"
     ]
    }
   ],
   "source": [
    "import pandas as pd\n",
    "import numpy as np\n",
    "\n",
    "correlations = {}\n",
    "for lag in range(-10, 11):  # Adjust range as needed\n",
    "    shifted_df = merged_data.copy()\n",
    "    shifted_df['sentiment'] = shifted_df['sentiment'].shift(lag)\n",
    "    correlations[lag] = shifted_df['Adj Close'].corr(shifted_df['sentiment'])\n",
    "\n",
    "# Find the lag with the highest correlation\n",
    "best_lag = max(correlations, key=correlations.get)\n",
    "print(f\"Best lag: {best_lag} with correlation: {correlations[best_lag]}\")\n"
   ]
  },
  {
   "cell_type": "code",
   "execution_count": 154,
   "metadata": {},
   "outputs": [],
   "source": [
    "import pandas as pd\n",
    "import statsmodels.api as sm\n",
    "from statsmodels.tsa.stattools import grangercausalitytests"
   ]
  },
  {
   "cell_type": "code",
   "execution_count": null,
   "metadata": {},
   "outputs": [],
   "source": []
  },
  {
   "cell_type": "code",
   "execution_count": 157,
   "metadata": {},
   "outputs": [
    {
     "name": "stdout",
     "output_type": "stream",
     "text": [
      "\n",
      "Granger Causality\n",
      "number of lags (no zero) 1\n",
      "ssr based F test:         F=0.5650  , p=0.4524  , df_denom=1918, df_num=1\n",
      "ssr based chi2 test:   chi2=0.5659  , p=0.4519  , df=1\n",
      "likelihood ratio test: chi2=0.5658  , p=0.4519  , df=1\n",
      "parameter F test:         F=0.5650  , p=0.4524  , df_denom=1918, df_num=1\n",
      "\n",
      "Granger Causality\n",
      "number of lags (no zero) 2\n",
      "ssr based F test:         F=1.1170  , p=0.3275  , df_denom=1915, df_num=2\n",
      "ssr based chi2 test:   chi2=2.2397  , p=0.3263  , df=2\n",
      "likelihood ratio test: chi2=2.2384  , p=0.3265  , df=2\n",
      "parameter F test:         F=1.1170  , p=0.3275  , df_denom=1915, df_num=2\n",
      "\n",
      "Granger Causality\n",
      "number of lags (no zero) 3\n",
      "ssr based F test:         F=0.8752  , p=0.4532  , df_denom=1912, df_num=3\n",
      "ssr based chi2 test:   chi2=2.6352  , p=0.4513  , df=3\n",
      "likelihood ratio test: chi2=2.6334  , p=0.4517  , df=3\n",
      "parameter F test:         F=0.8752  , p=0.4532  , df_denom=1912, df_num=3\n",
      "\n",
      "Granger Causality\n",
      "number of lags (no zero) 4\n",
      "ssr based F test:         F=0.6906  , p=0.5984  , df_denom=1909, df_num=4\n",
      "ssr based chi2 test:   chi2=2.7756  , p=0.5961  , df=4\n",
      "likelihood ratio test: chi2=2.7736  , p=0.5964  , df=4\n",
      "parameter F test:         F=0.6906  , p=0.5984  , df_denom=1909, df_num=4\n",
      "\n",
      "Granger Causality\n",
      "number of lags (no zero) 5\n",
      "ssr based F test:         F=0.5826  , p=0.7134  , df_denom=1906, df_num=5\n",
      "ssr based chi2 test:   chi2=2.9298  , p=0.7108  , df=5\n",
      "likelihood ratio test: chi2=2.9276  , p=0.7111  , df=5\n",
      "parameter F test:         F=0.5826  , p=0.7134  , df_denom=1906, df_num=5\n"
     ]
    }
   ],
   "source": [
    "# Assuming df is a DataFrame with two columns: 'sentiment' and 'stock_price'\n",
    "# Both columns should be time series data.\n",
    "\n",
    "max_lags = 5  # Define the maximum number of lags you want to test\n",
    "test = 'ssr_chi2test'  # Test type, can be 'ssr_chi2test', 'ssr_ftest', 'lrtest', 'params_ftest'\n",
    "\n",
    "gc_results = grangercausalitytests(merged_data[['Adj Close', 'sentiment']], max_lags, verbose=True)"
   ]
  },
  {
   "cell_type": "code",
   "execution_count": 158,
   "metadata": {},
   "outputs": [
    {
     "data": {
      "image/png": "[encoded data removed]",
      "text/plain": [
       "<Figure size 1200x600 with 1 Axes>"
      ]
     },
     "metadata": {},
     "output_type": "display_data"
    }
   ],
   "source": [
    "import numpy as np\n",
    "import matplotlib.pyplot as plt\n",
    "from statsmodels.tsa.stattools import ccf\n",
    "\n",
    "# Assuming df is your DataFrame with 'sentiment' and 'stock_price' columns\n",
    "\n",
    "# Compute the cross-correlation function\n",
    "ccf_values = ccf(merged_data['sentiment'], merged_data['Adj Close'])\n",
    "\n",
    "# Define the lags\n",
    "lags = np.arange(len(ccf_values))\n",
    "\n",
    "# Plot the CCF\n",
    "plt.figure(figsize=(12, 6))\n",
    "plt.stem(lags, ccf_values)\n",
    "plt.xlabel('Lags')\n",
    "plt.ylabel('Cross-correlation')\n",
    "plt.title('Cross-Correlation Function')\n",
    "plt.show()\n"
   ]
  },
  {
   "cell_type": "code",
   "execution_count": 159,
   "metadata": {},
   "outputs": [],
   "source": [
    "import pandas as pd\n",
    "import statsmodels.api as sm\n",
    "from sklearn.metrics import mean_absolute_percentage_error\n",
    "import numpy as np"
   ]
  },
  {
   "cell_type": "code",
   "execution_count": 160,
   "metadata": {},
   "outputs": [],
   "source": [
    "\n",
    "# Define your target and exogenous variable\n",
    "y = merged_data['Adj Close']\n",
    "exog = merged_data[['sentiment']]  # Exogenous variable\n",
    "\n"
   ]
  },
  {
   "cell_type": "code",
   "execution_count": 161,
   "metadata": {},
   "outputs": [],
   "source": [
    "# Train/Test Split\n",
    "n = len(merged_data)\n",
    "train_size = int(n * 0.8)\n",
    "y_train, y_test = y[:train_size], y[train_size:]\n",
    "exog_train, exog_test = exog[:train_size], exog[train_size:]\n",
    "\n"
   ]
  },
  {
   "cell_type": "code",
   "execution_count": 162,
   "metadata": {},
   "outputs": [
    {
     "name": "stdout",
     "output_type": "stream",
     "text": [
      "RUNNING THE L-BFGS-B CODE\n",
      "\n",
      "           * * *\n",
      "\n",
      "Machine precision = 2.220D-16\n",
      " N =            6     M =           10\n",
      "\n",
      "At X0         0 variables are exactly at the bounds\n",
      "\n",
      "At iterate    0    f=  3.91266D+00    |proj g|=  7.68048D-02\n"
     ]
    },
    {
     "name": "stderr",
     "output_type": "stream",
     "text": [
      " This problem is unconstrained.\n"
     ]
    }
   ],
   "source": [
    "model = sm.tsa.statespace.SARIMAX(y_train, order=(1, 1, 1), seasonal_order=(1, 1, 1, 200), exog=exog_train)\n",
    "# Fit the model\n",
    "results = model.fit()"
   ]
  },
  {
   "cell_type": "code",
   "execution_count": 129,
   "metadata": {},
   "outputs": [
    {
     "name": "stdout",
     "output_type": "stream",
     "text": [
      "MAPE: 0.300944688170262\n"
     ]
    }
   ],
   "source": [
    "# Make predictions\n",
    "predictions = results.predict(start=train_size, end=n-1, exog=exog_test)\n",
    "\n",
    "# Evaluate the model\n",
    "mse = mean_absolute_percentage_error(y_test, predictions)\n",
    "rmse = np.sqrt(mse)\n",
    "\n",
    "print(f\"MAPE: {rmse}\")"
   ]
  },
  {
   "cell_type": "code",
   "execution_count": null,
   "metadata": {},
   "outputs": [],
   "source": []
  }
 ],
 "metadata": {
  "kernelspec": {
   "display_name": "base",
   "language": "python",
   "name": "python3"
  },
  "language_info": {
   "codemirror_mode": {
    "name": "ipython",
    "version": 3
   },
   "file_extension": ".py",
   "mimetype": "text/x-python",
   "name": "python",
   "nbconvert_exporter": "python",
   "pygments_lexer": "ipython3",
   "version": "3.9.16"
  }
 },
 "nbformat": 4,
 "nbformat_minor": 2
}
