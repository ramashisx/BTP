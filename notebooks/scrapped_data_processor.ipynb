{
 "cells": [
  {
   "cell_type": "code",
   "execution_count": 6,
   "id": "8b9b0599a1535d35",
   "metadata": {
    "ExecuteTime": {
     "end_time": "2023-09-05T10:41:38.522391071Z",
     "start_time": "2023-09-05T10:36:07.152636139Z"
    },
    "collapsed": false
   },
   "outputs": [],
   "source": [
    "import pandas as pd\n",
    "from newspaper import Article\n",
    "from tqdm.notebook import tqdm"
   ]
  },
  {
   "cell_type": "code",
   "execution_count": 5,
   "metadata": {},
   "outputs": [],
   "source": [
    "with open(\"../data/metadata.py\") as fp:\n",
    "    data = fp.read()\n",
    "    METADATA = eval(data.replace(\"\\n\", \"\"))"
   ]
  },
  {
   "cell_type": "code",
   "execution_count": 11,
   "metadata": {},
   "outputs": [
    {
     "name": "stdout",
     "output_type": "stream",
     "text": [
      "https://www.moneycontrol.com/news/tags/hdfc.html/news/ HDFC\n"
     ]
    },
    {
     "data": {
      "application/vnd.jupyter.widget-view+json": {
       "model_id": "bfa63f86dd6b4611a1d685946cf87b5d",
       "version_major": 2,
       "version_minor": 0
      },
      "text/plain": [
       "  0%|          | 0/25 [00:00<?, ?it/s]"
      ]
     },
     "metadata": {},
     "output_type": "display_data"
    },
    {
     "name": "stdout",
     "output_type": "stream",
     "text": [
      "0 extraction failed retrying\n"
     ]
    },
    {
     "data": {
      "application/vnd.jupyter.widget-view+json": {
       "model_id": "36596d4c71284ef9be10ec4da176ca13",
       "version_major": 2,
       "version_minor": 0
      },
      "text/plain": [
       "0it [00:00, ?it/s]"
      ]
     },
     "metadata": {},
     "output_type": "display_data"
    }
   ],
   "source": [
    "for data in METADATA:\n",
    "\n",
    "    LINK = data[\"link\"]\n",
    "    TICKER = data[\"ticker\"]\n",
    "    print(LINK, TICKER)\n",
    "\n",
    "    data = pd.read_csv(f\"../data/checkpoints/checkpoint_{TICKER}.csv\")\n",
    "\n",
    "    main_data = []\n",
    "    failed = []\n",
    "    for link in tqdm(data[\"link\"].to_list()):\n",
    "        try:\n",
    "            article = Article(link)\n",
    "            article.download()\n",
    "            article.parse()\n",
    "            main_data.append({'link': link, 'text': article.text})\n",
    "        except:\n",
    "            print(link)\n",
    "            failed.append(link)\n",
    "\n",
    "    print(f\"{len(failed)} extraction failed retrying\")\n",
    "\n",
    "    retry_data = []\n",
    "    failed_again = []\n",
    "    for link in tqdm(failed):\n",
    "        try:\n",
    "            article = Article(link)\n",
    "            article.download()\n",
    "            article.parse()\n",
    "            retry_data.append({'link': link, 'text': article.text})\n",
    "        except:\n",
    "            print(link)\n",
    "            failed_again.append(link)\n",
    "\n",
    "    main_data.extend(retry_data)\n",
    "    df = pd.DataFrame(main_data)\n",
    "    data = data.merge(df)\n",
    "    data.to_csv(f\"../data/raw_data/raw_data_{TICKER}.csv\", index=False)"
   ]
  },
  {
   "cell_type": "code",
   "execution_count": null,
   "id": "1aa18ea188f2eb36",
   "metadata": {
    "collapsed": false
   },
   "outputs": [],
   "source": []
  }
 ],
 "metadata": {
  "kernelspec": {
   "display_name": "Python 3",
   "language": "python",
   "name": "python3"
  },
  "language_info": {
   "codemirror_mode": {
    "name": "ipython",
    "version": 3
   },
   "file_extension": ".py",
   "mimetype": "text/x-python",
   "name": "python",
   "nbconvert_exporter": "python",
   "pygments_lexer": "ipython3",
   "version": "3.9.17"
  }
 },
 "nbformat": 4,
 "nbformat_minor": 5
}
