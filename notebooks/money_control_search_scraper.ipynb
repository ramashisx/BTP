{
 "cells": [
  {
   "cell_type": "code",
   "execution_count": 1,
   "id": "initial_id",
   "metadata": {
    "ExecuteTime": {
     "end_time": "2023-09-05T10:36:03.625961567Z",
     "start_time": "2023-09-05T10:36:03.500389521Z"
    },
    "collapsed": true
   },
   "outputs": [],
   "source": [
    "import pandas as pd\n",
    "from selenium import webdriver\n",
    "from selenium.webdriver.common.by import By"
   ]
  },
  {
   "cell_type": "code",
   "execution_count": 1,
   "metadata": {},
   "outputs": [],
   "source": [
    "with open(\"../data/metadata.py\") as fp:\n",
    "    data = fp.read()\n",
    "    METADATA = eval(data.replace(\"\\n\", \"\"))"
   ]
  },
  {
   "cell_type": "code",
   "execution_count": 3,
   "id": "35563573cc7f2990",
   "metadata": {
    "ExecuteTime": {
     "end_time": "2023-09-05T10:34:05.822549787Z",
     "start_time": "2023-09-05T10:33:59.004764545Z"
    },
    "collapsed": false
   },
   "outputs": [],
   "source": [
    "# Initialize the Chrome driver\n",
    "driver = webdriver.Chrome()"
   ]
  },
  {
   "cell_type": "code",
   "execution_count": 4,
   "metadata": {},
   "outputs": [],
   "source": [
    "def get_page_number(link):\n",
    "    return int(link.split(\"/\")[-2].split(\"-\")[-1])\n",
    "\n",
    "def get_page_link(num, link):\n",
    "    return f\"{link}page-{num}/\"\n",
    "\n",
    "def get_articles_div(page):\n",
    "    return page.find_element(\n",
    "        By.CLASS_NAME, \"topictabpane\").find_elements(By.CLASS_NAME, \"clearfix\")\n",
    "\n",
    "def get_article_metadata(article, article_num):\n",
    "    try:\n",
    "        return (\n",
    "            article.find_element(\n",
    "                By.CLASS_NAME, \"lazy-container\").text, \n",
    "            article.find_element(\n",
    "                By.CLASS_NAME, \"lazy-container\").find_element(By.TAG_NAME, \"a\").get_attribute(\"href\")\n",
    "            )\n",
    "    except:\n",
    "        \n",
    "        return (\n",
    "            article.find_element(\n",
    "                By.TAG_NAME, \"a\").find_element(By.XPATH, f'//*[@id=\"newslist-{article_num}\"]/span').text,\n",
    "            article.find_element(\n",
    "                By.TAG_NAME, \"a\").get_attribute(\"href\")\n",
    "        )"
   ]
  },
  {
   "cell_type": "code",
   "execution_count": 6,
   "metadata": {},
   "outputs": [
    {
     "name": "stdout",
     "output_type": "stream",
     "text": [
      "https://www.moneycontrol.com/news/tags/hdfc.html/news/ HDFC\n"
     ]
    }
   ],
   "source": [
    "for data in METADATA:\n",
    "\n",
    "    LINK = data[\"link\"]\n",
    "    TICKER = data[\"ticker\"]\n",
    "    print(LINK, TICKER)\n",
    "\n",
    "    # Open LINK\n",
    "    driver.get(LINK)\n",
    "\n",
    "    last_page_button = driver.find_element(\n",
    "    By.CLASS_NAME, \"pagenation\").find_elements(\n",
    "        By.CLASS_NAME, \"last\"\n",
    "    )[-1]\n",
    "\n",
    "    total_pages = get_page_number(last_page_button.get_attribute(\"href\"))\n",
    "\n",
    "    data = []\n",
    "    for page_num in range(1, total_pages+1):\n",
    "        page_link = get_page_link(page_num, LINK)\n",
    "        driver.get(page_link)\n",
    "        articles = get_articles_div(driver)\n",
    "        for i, article in enumerate(articles):\n",
    "            data.append(get_article_metadata(article, i))\n",
    "        \n",
    "        break\n",
    "    data = pd.DataFrame(data)\n",
    "    data.columns = [\"Date\", \"link\"]\n",
    "    data.to_csv(f\"../data/checkpoints/checkpoint_{TICKER}.csv\", index=False)\n"
   ]
  },
  {
   "cell_type": "code",
   "execution_count": 7,
   "metadata": {},
   "outputs": [],
   "source": [
    "driver.quit()"
   ]
  },
  {
   "cell_type": "code",
   "execution_count": null,
   "id": "d55c040a",
   "metadata": {},
   "outputs": [],
   "source": []
  }
 ],
 "metadata": {
  "kernelspec": {
   "display_name": "Python 3",
   "language": "python",
   "name": "python3"
  },
  "language_info": {
   "codemirror_mode": {
    "name": "ipython",
    "version": 3
   },
   "file_extension": ".py",
   "mimetype": "text/x-python",
   "name": "python",
   "nbconvert_exporter": "python",
   "pygments_lexer": "ipython3",
   "version": "3.9.17"
  }
 },
 "nbformat": 4,
 "nbformat_minor": 5
}
